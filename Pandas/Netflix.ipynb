{
 "cells": [
  {
   "cell_type": "markdown",
   "id": "7db4feca-431e-484d-92de-de383368282b",
   "metadata": {},
   "source": [
    "**Цель - проанализировать таблицу с фильмами от Netflix**"
   ]
  },
  {
   "cell_type": "code",
   "execution_count": 3,
   "id": "81ca0e34-78db-40e8-bb36-ef52cf7780a9",
   "metadata": {},
   "outputs": [],
   "source": [
    "import pandas as pd"
   ]
  },
  {
   "cell_type": "code",
   "execution_count": 4,
   "id": "6e4ebd26-85e9-464b-bf48-e7647c6dd363",
   "metadata": {},
   "outputs": [
    {
     "data": {
      "text/html": [
       "<div>\n",
       "<style scoped>\n",
       "    .dataframe tbody tr th:only-of-type {\n",
       "        vertical-align: middle;\n",
       "    }\n",
       "\n",
       "    .dataframe tbody tr th {\n",
       "        vertical-align: top;\n",
       "    }\n",
       "\n",
       "    .dataframe thead th {\n",
       "        text-align: right;\n",
       "    }\n",
       "</style>\n",
       "<table border=\"1\" class=\"dataframe\">\n",
       "  <thead>\n",
       "    <tr style=\"text-align: right;\">\n",
       "      <th></th>\n",
       "      <th>show_id</th>\n",
       "      <th>type</th>\n",
       "      <th>title</th>\n",
       "      <th>director</th>\n",
       "      <th>cast</th>\n",
       "      <th>country</th>\n",
       "      <th>date_added</th>\n",
       "      <th>release_year</th>\n",
       "      <th>rating</th>\n",
       "      <th>duration</th>\n",
       "      <th>listed_in</th>\n",
       "      <th>description</th>\n",
       "    </tr>\n",
       "  </thead>\n",
       "  <tbody>\n",
       "    <tr>\n",
       "      <th>7782</th>\n",
       "      <td>s7783</td>\n",
       "      <td>Movie</td>\n",
       "      <td>Zozo</td>\n",
       "      <td>Josef Fares</td>\n",
       "      <td>Imad Creidi, Antoinette Turk, Elias Gergi, Car...</td>\n",
       "      <td>Sweden, Czech Republic, United Kingdom, Denmar...</td>\n",
       "      <td>October 19, 2020</td>\n",
       "      <td>2005</td>\n",
       "      <td>TV-MA</td>\n",
       "      <td>99 min</td>\n",
       "      <td>Dramas, International Movies</td>\n",
       "      <td>When Lebanon's Civil War deprives Zozo of his ...</td>\n",
       "    </tr>\n",
       "    <tr>\n",
       "      <th>7783</th>\n",
       "      <td>s7784</td>\n",
       "      <td>Movie</td>\n",
       "      <td>Zubaan</td>\n",
       "      <td>Mozez Singh</td>\n",
       "      <td>Vicky Kaushal, Sarah-Jane Dias, Raaghav Chanan...</td>\n",
       "      <td>India</td>\n",
       "      <td>March 2, 2019</td>\n",
       "      <td>2015</td>\n",
       "      <td>TV-14</td>\n",
       "      <td>111 min</td>\n",
       "      <td>Dramas, International Movies, Music &amp; Musicals</td>\n",
       "      <td>A scrappy but poor boy worms his way into a ty...</td>\n",
       "    </tr>\n",
       "    <tr>\n",
       "      <th>7784</th>\n",
       "      <td>s7785</td>\n",
       "      <td>Movie</td>\n",
       "      <td>Zulu Man in Japan</td>\n",
       "      <td>NaN</td>\n",
       "      <td>Nasty C</td>\n",
       "      <td>NaN</td>\n",
       "      <td>September 25, 2020</td>\n",
       "      <td>2019</td>\n",
       "      <td>TV-MA</td>\n",
       "      <td>44 min</td>\n",
       "      <td>Documentaries, International Movies, Music &amp; M...</td>\n",
       "      <td>In this documentary, South African rapper Nast...</td>\n",
       "    </tr>\n",
       "    <tr>\n",
       "      <th>7785</th>\n",
       "      <td>s7786</td>\n",
       "      <td>TV Show</td>\n",
       "      <td>Zumbo's Just Desserts</td>\n",
       "      <td>NaN</td>\n",
       "      <td>Adriano Zumbo, Rachel Khoo</td>\n",
       "      <td>Australia</td>\n",
       "      <td>October 31, 2020</td>\n",
       "      <td>2019</td>\n",
       "      <td>TV-PG</td>\n",
       "      <td>1 Season</td>\n",
       "      <td>International TV Shows, Reality TV</td>\n",
       "      <td>Dessert wizard Adriano Zumbo looks for the nex...</td>\n",
       "    </tr>\n",
       "    <tr>\n",
       "      <th>7786</th>\n",
       "      <td>s7787</td>\n",
       "      <td>Movie</td>\n",
       "      <td>ZZ TOP: THAT LITTLE OL' BAND FROM TEXAS</td>\n",
       "      <td>Sam Dunn</td>\n",
       "      <td>NaN</td>\n",
       "      <td>United Kingdom, Canada, United States</td>\n",
       "      <td>March 1, 2020</td>\n",
       "      <td>2019</td>\n",
       "      <td>TV-MA</td>\n",
       "      <td>90 min</td>\n",
       "      <td>Documentaries, Music &amp; Musicals</td>\n",
       "      <td>This documentary delves into the mystique behi...</td>\n",
       "    </tr>\n",
       "  </tbody>\n",
       "</table>\n",
       "</div>"
      ],
      "text/plain": [
       "     show_id     type                                    title     director  \\\n",
       "7782   s7783    Movie                                     Zozo  Josef Fares   \n",
       "7783   s7784    Movie                                   Zubaan  Mozez Singh   \n",
       "7784   s7785    Movie                        Zulu Man in Japan          NaN   \n",
       "7785   s7786  TV Show                    Zumbo's Just Desserts          NaN   \n",
       "7786   s7787    Movie  ZZ TOP: THAT LITTLE OL' BAND FROM TEXAS     Sam Dunn   \n",
       "\n",
       "                                                   cast  \\\n",
       "7782  Imad Creidi, Antoinette Turk, Elias Gergi, Car...   \n",
       "7783  Vicky Kaushal, Sarah-Jane Dias, Raaghav Chanan...   \n",
       "7784                                            Nasty C   \n",
       "7785                         Adriano Zumbo, Rachel Khoo   \n",
       "7786                                                NaN   \n",
       "\n",
       "                                                country          date_added  \\\n",
       "7782  Sweden, Czech Republic, United Kingdom, Denmar...    October 19, 2020   \n",
       "7783                                              India       March 2, 2019   \n",
       "7784                                                NaN  September 25, 2020   \n",
       "7785                                          Australia    October 31, 2020   \n",
       "7786              United Kingdom, Canada, United States       March 1, 2020   \n",
       "\n",
       "      release_year rating  duration  \\\n",
       "7782          2005  TV-MA    99 min   \n",
       "7783          2015  TV-14   111 min   \n",
       "7784          2019  TV-MA    44 min   \n",
       "7785          2019  TV-PG  1 Season   \n",
       "7786          2019  TV-MA    90 min   \n",
       "\n",
       "                                              listed_in  \\\n",
       "7782                       Dramas, International Movies   \n",
       "7783     Dramas, International Movies, Music & Musicals   \n",
       "7784  Documentaries, International Movies, Music & M...   \n",
       "7785                 International TV Shows, Reality TV   \n",
       "7786                    Documentaries, Music & Musicals   \n",
       "\n",
       "                                            description  \n",
       "7782  When Lebanon's Civil War deprives Zozo of his ...  \n",
       "7783  A scrappy but poor boy worms his way into a ty...  \n",
       "7784  In this documentary, South African rapper Nast...  \n",
       "7785  Dessert wizard Adriano Zumbo looks for the nex...  \n",
       "7786  This documentary delves into the mystique behi...  "
      ]
     },
     "execution_count": 4,
     "metadata": {},
     "output_type": "execute_result"
    }
   ],
   "source": [
    "netflix = pd.read_csv(\"netflix_titles.csv\")\n",
    "netflix.tail(5)"
   ]
  },
  {
   "cell_type": "markdown",
   "id": "0a2bbf33-c6ef-4280-811d-c5c2b642d138",
   "metadata": {},
   "source": [
    "Важно понимать, как выглядит данная таблица, поэтому сверху выведени ее первые 5 строк"
   ]
  },
  {
   "cell_type": "markdown",
   "id": "30b589b7-6123-4e6a-b26a-00e5c110af3b",
   "metadata": {},
   "source": [
    "Теперь выведем некую статистику из данной таблицу (что есть что подписано в комментариях)"
   ]
  },
  {
   "cell_type": "code",
   "execution_count": 6,
   "id": "4ab03591-14d6-45c4-935e-afaa6d263b33",
   "metadata": {},
   "outputs": [
    {
     "name": "stdout",
     "output_type": "stream",
     "text": [
      "14\n",
      "***\n",
      "Movie      5377\n",
      "TV Show    2410\n",
      "Name: type, dtype: int64\n",
      "***\n",
      "1925\n"
     ]
    }
   ],
   "source": [
    "print(netflix.rating.nunique()) # уникальных категорий рейтинга\n",
    "print(\"***\")\n",
    "print(netflix.type.value_counts()) # подсчет количества объектов каждого типа\n",
    "print(\"***\")\n",
    "print(netflix.release_year.min()) # минимальный год релиза"
   ]
  },
  {
   "cell_type": "markdown",
   "id": "ba150833-81d1-4d91-b078-efec8298b236",
   "metadata": {},
   "source": [
    "Теперь перейдем к более важной задаче - удаление пропуском (заполнение) в таблице, что важно для анализа данных. Узнаем, есть ли пропуски в целом(а если есть, то сколько и в каких столбцах)"
   ]
  },
  {
   "cell_type": "code",
   "execution_count": 8,
   "id": "2e4e747f-d568-4c33-aea0-bfd6538932ac",
   "metadata": {},
   "outputs": [
    {
     "data": {
      "text/plain": [
       "show_id            0\n",
       "type               0\n",
       "title              0\n",
       "director        2389\n",
       "cast             718\n",
       "country          507\n",
       "date_added        10\n",
       "release_year       0\n",
       "rating             7\n",
       "duration           0\n",
       "listed_in          0\n",
       "description        0\n",
       "dtype: int64"
      ]
     },
     "execution_count": 8,
     "metadata": {},
     "output_type": "execute_result"
    }
   ],
   "source": [
    "pd.isna(netflix).sum() # число напротив названия столбца - количество пропусков"
   ]
  },
  {
   "cell_type": "markdown",
   "id": "55469d25-99d8-4723-839e-e38f6f8298b3",
   "metadata": {},
   "source": [
    "Заполним все пропуски пустыми строками:"
   ]
  },
  {
   "cell_type": "code",
   "execution_count": 9,
   "id": "99a39417-94df-4007-b2e9-db8965322cab",
   "metadata": {},
   "outputs": [
    {
     "name": "stdout",
     "output_type": "stream",
     "text": [
      "show_id         0\n",
      "type            0\n",
      "title           0\n",
      "director        0\n",
      "cast            0\n",
      "country         0\n",
      "date_added      0\n",
      "release_year    0\n",
      "rating          0\n",
      "duration        0\n",
      "listed_in       0\n",
      "description     0\n",
      "dtype: int64\n"
     ]
    }
   ],
   "source": [
    "for i in netflix.columns:\n",
    "    netflix[i] = netflix[i].fillna(\"\")\n",
    "print(pd.isna(netflix).sum()) # количество пропусков"
   ]
  },
  {
   "cell_type": "markdown",
   "id": "981f8e2d-86dd-4983-a9fd-0c736d85a73b",
   "metadata": {},
   "source": [
    "Теперь можно спокойно работать с таблицей. Надо узнать, в каком году больше всего позиций было добавлено:"
   ]
  },
  {
   "cell_type": "code",
   "execution_count": 11,
   "id": "d64d1759-472f-4b25-a77c-e3a723e4c7e7",
   "metadata": {},
   "outputs": [
    {
     "data": {
      "text/plain": [
       "2019.0    2153\n",
       "2020.0    2009\n",
       "2018.0    1685\n",
       "2017.0    1225\n",
       "2016.0     443\n",
       "2021.0     117\n",
       "2015.0      88\n",
       "2014.0      25\n",
       "2011.0      13\n",
       "2013.0      11\n",
       "2012.0       3\n",
       "2008.0       2\n",
       "2009.0       2\n",
       "2010.0       1\n",
       "Name: date_added, dtype: int64"
      ]
     },
     "execution_count": 11,
     "metadata": {},
     "output_type": "execute_result"
    }
   ],
   "source": [
    "netflix.loc[:, 'date_added'] = pd.to_datetime(netflix.loc[:, 'date_added'])\n",
    "netflix.date_added.dt.year.value_counts()"
   ]
  },
  {
   "cell_type": "markdown",
   "id": "b39f5826-d1b2-449b-9bda-5e044d28fc1d",
   "metadata": {},
   "source": [
    "Видно, что больше всего было добавлено позиций в 2019 году (2153 наименования)"
   ]
  },
  {
   "cell_type": "markdown",
   "id": "0b3b6837-708d-433f-89b6-1de314026485",
   "metadata": {},
   "source": [
    "Теперь узнаем топ-5 самых продолжительных сериалов на платформе:"
   ]
  },
  {
   "cell_type": "code",
   "execution_count": 13,
   "id": "accd9045-cb5a-47fd-9d15-6a8a04bc78ca",
   "metadata": {},
   "outputs": [
    {
     "data": {
      "text/html": [
       "<div>\n",
       "<style scoped>\n",
       "    .dataframe tbody tr th:only-of-type {\n",
       "        vertical-align: middle;\n",
       "    }\n",
       "\n",
       "    .dataframe tbody tr th {\n",
       "        vertical-align: top;\n",
       "    }\n",
       "\n",
       "    .dataframe thead th {\n",
       "        text-align: right;\n",
       "    }\n",
       "</style>\n",
       "<table border=\"1\" class=\"dataframe\">\n",
       "  <thead>\n",
       "    <tr style=\"text-align: right;\">\n",
       "      <th></th>\n",
       "      <th>show_id</th>\n",
       "      <th>type</th>\n",
       "      <th>title</th>\n",
       "      <th>director</th>\n",
       "      <th>cast</th>\n",
       "      <th>country</th>\n",
       "      <th>date_added</th>\n",
       "      <th>release_year</th>\n",
       "      <th>rating</th>\n",
       "      <th>duration</th>\n",
       "      <th>listed_in</th>\n",
       "      <th>description</th>\n",
       "    </tr>\n",
       "  </thead>\n",
       "  <tbody>\n",
       "    <tr>\n",
       "      <th>4404</th>\n",
       "      <td>s4405</td>\n",
       "      <td>TV Show</td>\n",
       "      <td>Naruto</td>\n",
       "      <td>Hayato Date</td>\n",
       "      <td>Junko Takeuchi, Chie Nakamura, Noriaki Sugiyam...</td>\n",
       "      <td>Japan</td>\n",
       "      <td>2019-09-01</td>\n",
       "      <td>2006</td>\n",
       "      <td>TV-14</td>\n",
       "      <td>9 Seasons</td>\n",
       "      <td>Anime Series, International TV Shows</td>\n",
       "      <td>Guided by the spirit demon within him, orphane...</td>\n",
       "    </tr>\n",
       "    <tr>\n",
       "      <th>1431</th>\n",
       "      <td>s1432</td>\n",
       "      <td>TV Show</td>\n",
       "      <td>Club Friday The Series 6</td>\n",
       "      <td></td>\n",
       "      <td>Puttichai Kasetsin, Kongtoranin Lalana, Preech...</td>\n",
       "      <td></td>\n",
       "      <td>2019-03-09</td>\n",
       "      <td>2015</td>\n",
       "      <td>TV-MA</td>\n",
       "      <td>9 Seasons</td>\n",
       "      <td>International TV Shows, Romantic TV Shows, TV ...</td>\n",
       "      <td>Based on a Thai radio show that gives love adv...</td>\n",
       "    </tr>\n",
       "    <tr>\n",
       "      <th>6983</th>\n",
       "      <td>s6984</td>\n",
       "      <td>TV Show</td>\n",
       "      <td>The Walking Dead</td>\n",
       "      <td></td>\n",
       "      <td>Andrew Lincoln, Steven Yeun, Norman Reedus, Ch...</td>\n",
       "      <td>United States</td>\n",
       "      <td>2019-09-01</td>\n",
       "      <td>2018</td>\n",
       "      <td>TV-MA</td>\n",
       "      <td>9 Seasons</td>\n",
       "      <td>Classic &amp; Cult TV, TV Action &amp; Adventure, TV D...</td>\n",
       "      <td>In the wake of a zombie apocalypse, survivors ...</td>\n",
       "    </tr>\n",
       "    <tr>\n",
       "      <th>6718</th>\n",
       "      <td>s6719</td>\n",
       "      <td>TV Show</td>\n",
       "      <td>The Office (U.S.)</td>\n",
       "      <td></td>\n",
       "      <td>Steve Carell, John Krasinski, Jenna Fischer, R...</td>\n",
       "      <td>United States</td>\n",
       "      <td>2016-01-01</td>\n",
       "      <td>2012</td>\n",
       "      <td>TV-14</td>\n",
       "      <td>9 Seasons</td>\n",
       "      <td>TV Comedies</td>\n",
       "      <td>This hit comedy chronicles the foibles of disg...</td>\n",
       "    </tr>\n",
       "    <tr>\n",
       "      <th>1181</th>\n",
       "      <td>s1182</td>\n",
       "      <td>TV Show</td>\n",
       "      <td>Call the Midwife</td>\n",
       "      <td>Philippa Lowthorpe</td>\n",
       "      <td>Vanessa Redgrave, Bryony Hannah, Helen George,...</td>\n",
       "      <td>United Kingdom</td>\n",
       "      <td>2020-09-15</td>\n",
       "      <td>2020</td>\n",
       "      <td>TV-MA</td>\n",
       "      <td>9 Seasons</td>\n",
       "      <td>British TV Shows, International TV Shows, TV D...</td>\n",
       "      <td>This period drama set in impoverished East Lon...</td>\n",
       "    </tr>\n",
       "  </tbody>\n",
       "</table>\n",
       "</div>"
      ],
      "text/plain": [
       "     show_id     type                     title            director  \\\n",
       "4404   s4405  TV Show                    Naruto         Hayato Date   \n",
       "1431   s1432  TV Show  Club Friday The Series 6                       \n",
       "6983   s6984  TV Show          The Walking Dead                       \n",
       "6718   s6719  TV Show         The Office (U.S.)                       \n",
       "1181   s1182  TV Show          Call the Midwife  Philippa Lowthorpe   \n",
       "\n",
       "                                                   cast         country  \\\n",
       "4404  Junko Takeuchi, Chie Nakamura, Noriaki Sugiyam...           Japan   \n",
       "1431  Puttichai Kasetsin, Kongtoranin Lalana, Preech...                   \n",
       "6983  Andrew Lincoln, Steven Yeun, Norman Reedus, Ch...   United States   \n",
       "6718  Steve Carell, John Krasinski, Jenna Fischer, R...   United States   \n",
       "1181  Vanessa Redgrave, Bryony Hannah, Helen George,...  United Kingdom   \n",
       "\n",
       "     date_added  release_year rating   duration  \\\n",
       "4404 2019-09-01          2006  TV-14  9 Seasons   \n",
       "1431 2019-03-09          2015  TV-MA  9 Seasons   \n",
       "6983 2019-09-01          2018  TV-MA  9 Seasons   \n",
       "6718 2016-01-01          2012  TV-14  9 Seasons   \n",
       "1181 2020-09-15          2020  TV-MA  9 Seasons   \n",
       "\n",
       "                                              listed_in  \\\n",
       "4404               Anime Series, International TV Shows   \n",
       "1431  International TV Shows, Romantic TV Shows, TV ...   \n",
       "6983  Classic & Cult TV, TV Action & Adventure, TV D...   \n",
       "6718                                        TV Comedies   \n",
       "1181  British TV Shows, International TV Shows, TV D...   \n",
       "\n",
       "                                            description  \n",
       "4404  Guided by the spirit demon within him, orphane...  \n",
       "1431  Based on a Thai radio show that gives love adv...  \n",
       "6983  In the wake of a zombie apocalypse, survivors ...  \n",
       "6718  This hit comedy chronicles the foibles of disg...  \n",
       "1181  This period drama set in impoverished East Lon...  "
      ]
     },
     "execution_count": 13,
     "metadata": {},
     "output_type": "execute_result"
    }
   ],
   "source": [
    "netflix.sort_values(by = \"duration\", ascending = False).loc[netflix.type == \"TV Show\"].head()"
   ]
  },
  {
   "cell_type": "markdown",
   "id": "679ea65a-08f0-4c61-b9de-6a7221f59492",
   "metadata": {},
   "source": [
    "А в каких странах снято больше всего фильмов и сериалов?"
   ]
  },
  {
   "cell_type": "code",
   "execution_count": 17,
   "id": "2a4043cf-ebc1-47d2-9a19-f95892e88b34",
   "metadata": {},
   "outputs": [
    {
     "data": {
      "text/plain": [
       "United States     2883\n",
       "India              956\n",
       "United Kingdom     577\n",
       "                   511\n",
       " United States     414\n",
       "                  ... \n",
       " Samoa               1\n",
       "Iran                 1\n",
       " Bermuda             1\n",
       " Ecuador             1\n",
       " Montenegro          1\n",
       "Name: country, Length: 188, dtype: int64"
      ]
     },
     "execution_count": 17,
     "metadata": {},
     "output_type": "execute_result"
    }
   ],
   "source": [
    "netflix.loc[:, 'country'].apply(lambda x : x.split(',')).explode('country').value_counts()"
   ]
  },
  {
   "cell_type": "markdown",
   "id": "1e1bc28c-8151-48c2-87d8-5f7dbc7743bf",
   "metadata": {},
   "source": [
    "Примечание: пустая строка (где значение 511) - это те фильмы/сериалы, для которых не указана страна-производитель"
   ]
  },
  {
   "cell_type": "markdown",
   "id": "a9fa3aee-4907-4b4e-aba2-085d05cea4b3",
   "metadata": {},
   "source": [
    "Итог: это лишь малая часть той информации, которую можно узнать из данных благодаря библиотеке Pandas. Несомненно, Pandas может быть применен во многих областях для аналитики данных и принятия последующих решений"
   ]
  }
 ],
 "metadata": {
  "kernelspec": {
   "display_name": "Python 3 (ipykernel)",
   "language": "python",
   "name": "python3"
  },
  "language_info": {
   "codemirror_mode": {
    "name": "ipython",
    "version": 3
   },
   "file_extension": ".py",
   "mimetype": "text/x-python",
   "name": "python",
   "nbconvert_exporter": "python",
   "pygments_lexer": "ipython3",
   "version": "3.9.5"
  }
 },
 "nbformat": 4,
 "nbformat_minor": 5
}
